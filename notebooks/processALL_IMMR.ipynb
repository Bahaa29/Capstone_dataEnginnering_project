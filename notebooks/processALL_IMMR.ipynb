{
 "cells": [
  {
   "cell_type": "code",
   "execution_count": 12,
   "metadata": {
    "editable": true
   },
   "outputs": [],
   "source": [
    "import pandas as pd\n",
    "import configparser\n",
    "import os\n",
    "import logging\n",
    "import pandas as pd\n",
    "from pyspark.sql import SparkSession\n",
    "from pyspark.sql.types import DateType\n",
    "from pyspark.sql.functions import udf, col, lit, year, month, upper, to_date\n",
    "from pyspark.sql.functions import monotonically_increasing_id"
   ]
  },
  {
   "cell_type": "code",
   "execution_count": 2,
   "metadata": {
    "editable": true
   },
   "outputs": [
    {
     "name": "stdout",
     "output_type": "stream",
     "text": [
      "['/data/18-83510-I94-Data-2016/i94_apr16_sub.sas7bdat', '/data/18-83510-I94-Data-2016/i94_sep16_sub.sas7bdat', '/data/18-83510-I94-Data-2016/i94_nov16_sub.sas7bdat', '/data/18-83510-I94-Data-2016/i94_mar16_sub.sas7bdat', '/data/18-83510-I94-Data-2016/i94_aug16_sub.sas7bdat', '/data/18-83510-I94-Data-2016/i94_may16_sub.sas7bdat', '/data/18-83510-I94-Data-2016/i94_jan16_sub.sas7bdat', '/data/18-83510-I94-Data-2016/i94_oct16_sub.sas7bdat', '/data/18-83510-I94-Data-2016/i94_jul16_sub.sas7bdat', '/data/18-83510-I94-Data-2016/i94_feb16_sub.sas7bdat', '/data/18-83510-I94-Data-2016/i94_dec16_sub.sas7bdat']\n"
     ]
    }
   ],
   "source": [
    "import os\n",
    "import glob\n",
    "all_files = []\n",
    "filepath=\"../../data/18-83510-I94-Data-2016\"\n",
    "for root, dirs, files in os.walk(filepath):\n",
    "    files = glob.glob(os.path.join(root,'*.sas7bdat'))\n",
    "    for f in files :\n",
    "        all_files.append(os.path.abspath(f))\n",
    "all_files.remove('/data/18-83510-I94-Data-2016/i94_jun16_sub.sas7bdat')\n",
    "print(all_files)"
   ]
  },
  {
   "cell_type": "code",
   "execution_count": 3,
   "metadata": {
    "editable": true
   },
   "outputs": [],
   "source": [
    "from pyspark.sql import SparkSession\n",
    "spark = SparkSession.builder.\\\n",
    "config(\"spark.jars.repositories\", \"https://repos.spark-packages.org/\").\\\n",
    "config(\"spark.jars.packages\", \"saurfang:spark-sas7bdat:2.0.0-s_2.11\").\\\n",
    "enableHiveSupport().getOrCreate()\n",
    "\n",
    "for file in all_files:\n",
    "    df_spark = spark.read.format('com.github.saurfang.sas.spark').load('../..'+file)\n",
    "    if file =='/data/18-83510-I94-Data-2016/i94_apr16_sub.sas7bdat':\n",
    "        data_set=df_spark\n",
    "    else:\n",
    "        data_set=df_spark.union(data_set)"
   ]
  },
  {
   "cell_type": "code",
   "execution_count": 4,
   "metadata": {
    "editable": true
   },
   "outputs": [],
   "source": [
    "def rename_columns(table, new_columns):\n",
    "    for original, new in zip(table.columns, new_columns):\n",
    "        table = table.withColumnRenamed(original, new)\n",
    "    return table"
   ]
  },
  {
   "cell_type": "code",
   "execution_count": 7,
   "metadata": {
    "editable": true
   },
   "outputs": [
    {
     "name": "stdout",
     "output_type": "stream",
     "text": [
      "root\n",
      " |-- cicid: double (nullable = true)\n",
      " |-- i94yr: double (nullable = true)\n",
      " |-- i94mon: double (nullable = true)\n",
      " |-- i94cit: double (nullable = true)\n",
      " |-- i94res: double (nullable = true)\n",
      " |-- i94port: string (nullable = true)\n",
      " |-- arrdate: double (nullable = true)\n",
      " |-- i94mode: double (nullable = true)\n",
      " |-- i94addr: string (nullable = true)\n",
      " |-- depdate: double (nullable = true)\n",
      " |-- i94bir: double (nullable = true)\n",
      " |-- i94visa: double (nullable = true)\n",
      " |-- count: double (nullable = true)\n",
      " |-- dtadfile: string (nullable = true)\n",
      " |-- entdepa: string (nullable = true)\n",
      " |-- entdepd: string (nullable = true)\n",
      " |-- matflag: string (nullable = true)\n",
      " |-- biryear: double (nullable = true)\n",
      " |-- dtaddto: string (nullable = true)\n",
      " |-- gender: string (nullable = true)\n",
      " |-- airline: string (nullable = true)\n",
      " |-- admnum: double (nullable = true)\n",
      " |-- fltno: string (nullable = true)\n",
      " |-- visatype: string (nullable = true)\n",
      "\n"
     ]
    }
   ],
   "source": [
    "cols = (\"insnum\", \"entdepu\", \"occup\",\"visapost\")\n",
    "data_set.drop(*cols).printSchema()\n"
   ]
  },
  {
   "cell_type": "code",
   "execution_count": 10,
   "metadata": {
    "editable": true
   },
   "outputs": [
    {
     "data": {
      "text/plain": [
       "DataFrame[cicid: double, i94yr: double, i94mon: double, i94cit: double, i94res: double, i94port: string, arrdate: double, i94mode: double, i94addr: string, depdate: double, i94bir: double, i94visa: double, count: double, dtadfile: string, visapost: string, occup: string, entdepa: string, entdepd: string, entdepu: string, matflag: string, biryear: double, dtaddto: string, gender: string, insnum: string, airline: string, admnum: double, fltno: string, visatype: string]"
      ]
     },
     "execution_count": 10,
     "metadata": {},
     "output_type": "execute_result"
    }
   ],
   "source": [
    "data_set.na.drop()"
   ]
  },
  {
   "cell_type": "code",
   "execution_count": 15,
   "metadata": {
    "editable": true
   },
   "outputs": [],
   "source": [
    "fact_immr = data_set.select('cicid', 'i94yr', 'i94mon', 'i94port', 'i94addr','arrdate', 'depdate', 'i94mode', 'i94visa').distinct()\\\n",
    ".withColumn(\"immigration_id\", monotonically_increasing_id())\n",
    "\n",
    "new_columns = ['cic_id', 'year', 'month', 'city_code', 'state_code','arrive_date', 'departure_date', 'mode', 'visa']\n",
    "fact_immr = rename_columns(fact_immr, new_columns)"
   ]
  },
  {
   "cell_type": "code",
   "execution_count": 16,
   "metadata": {
    "editable": true
   },
   "outputs": [
    {
     "name": "stdout",
     "output_type": "stream",
     "text": [
      "root\n",
      " |-- cic_id: double (nullable = true)\n",
      " |-- year: double (nullable = true)\n",
      " |-- month: double (nullable = true)\n",
      " |-- city_code: string (nullable = true)\n",
      " |-- state_code: string (nullable = true)\n",
      " |-- arrive_date: double (nullable = true)\n",
      " |-- departure_date: double (nullable = true)\n",
      " |-- mode: double (nullable = true)\n",
      " |-- visa: double (nullable = true)\n",
      " |-- immigration_id: long (nullable = false)\n",
      "\n"
     ]
    }
   ],
   "source": [
    "fact_immr.printSchema()"
   ]
  },
  {
   "cell_type": "code",
   "execution_count": 17,
   "metadata": {
    "editable": true
   },
   "outputs": [],
   "source": [
    "def SAS_to_date(date):\n",
    "    if date is not None:\n",
    "        return pd.to_timedelta(date, unit='D') + pd.Timestamp('1960-1-1')\n",
    "SAS_to_date_udf = udf(SAS_to_date, DateType())\n"
   ]
  },
  {
   "cell_type": "code",
   "execution_count": 18,
   "metadata": {
    "editable": true
   },
   "outputs": [
    {
     "name": "stdout",
     "output_type": "stream",
     "text": [
      "root\n",
      " |-- cic_id: double (nullable = true)\n",
      " |-- year: double (nullable = true)\n",
      " |-- month: double (nullable = true)\n",
      " |-- city_code: string (nullable = true)\n",
      " |-- state_code: string (nullable = true)\n",
      " |-- arrive_date: date (nullable = true)\n",
      " |-- departure_date: date (nullable = true)\n",
      " |-- mode: double (nullable = true)\n",
      " |-- visa: double (nullable = true)\n",
      " |-- immigration_id: long (nullable = false)\n",
      " |-- country: string (nullable = false)\n",
      "\n"
     ]
    }
   ],
   "source": [
    "fact_immr=fact_immr.withColumn(\"country\",lit(\"United States\"))\n",
    "fact_immr = fact_immr.withColumn('arrive_date',SAS_to_date_udf(col('arrive_date')))\n",
    "fact_immr = fact_immr.withColumn('departure_date',SAS_to_date_udf(col('departure_date')))\n",
    "fact_immr.printSchema()"
   ]
  },
  {
   "cell_type": "code",
   "execution_count": 19,
   "metadata": {
    "editable": true
   },
   "outputs": [
    {
     "data": {
      "text/html": [
       "<div>\n",
       "<style scoped>\n",
       "    .dataframe tbody tr th:only-of-type {\n",
       "        vertical-align: middle;\n",
       "    }\n",
       "\n",
       "    .dataframe tbody tr th {\n",
       "        vertical-align: top;\n",
       "    }\n",
       "\n",
       "    .dataframe thead th {\n",
       "        text-align: right;\n",
       "    }\n",
       "</style>\n",
       "<table border=\"1\" class=\"dataframe\">\n",
       "  <thead>\n",
       "    <tr style=\"text-align: right;\">\n",
       "      <th></th>\n",
       "      <th>port_code</th>\n",
       "      <th>cities_code</th>\n",
       "      <th>staties_code</th>\n",
       "    </tr>\n",
       "  </thead>\n",
       "  <tbody>\n",
       "    <tr>\n",
       "      <th>0</th>\n",
       "      <td>ALC</td>\n",
       "      <td>ALCAN</td>\n",
       "      <td>AK</td>\n",
       "    </tr>\n",
       "    <tr>\n",
       "      <th>1</th>\n",
       "      <td>ANC</td>\n",
       "      <td>ANCHORAGE</td>\n",
       "      <td>AK</td>\n",
       "    </tr>\n",
       "    <tr>\n",
       "      <th>2</th>\n",
       "      <td>BAR</td>\n",
       "      <td>BAKER AAF - BAKER ISLAND</td>\n",
       "      <td>AK</td>\n",
       "    </tr>\n",
       "    <tr>\n",
       "      <th>3</th>\n",
       "      <td>DAC</td>\n",
       "      <td>DALTONS CACHE</td>\n",
       "      <td>AK</td>\n",
       "    </tr>\n",
       "    <tr>\n",
       "      <th>4</th>\n",
       "      <td>PIZ</td>\n",
       "      <td>DEW STATION PT LAY DEW</td>\n",
       "      <td>AK</td>\n",
       "    </tr>\n",
       "  </tbody>\n",
       "</table>\n",
       "</div>"
      ],
      "text/plain": [
       "  port_code               cities_code staties_code\n",
       "0       ALC                     ALCAN           AK\n",
       "1       ANC                 ANCHORAGE           AK\n",
       "2       BAR  BAKER AAF - BAKER ISLAND           AK\n",
       "3       DAC             DALTONS CACHE           AK\n",
       "4       PIZ    DEW STATION PT LAY DEW           AK"
      ]
     },
     "execution_count": 19,
     "metadata": {},
     "output_type": "execute_result"
    }
   ],
   "source": [
    "with open('./I94_SAS_Labels_Descriptions.SAS') as r:\n",
    "    content=r.readlines()\n",
    "content=[s.strip() for s in content]\n",
    "ports=content[302:962]\n",
    "data=[port.split('=') for port in ports]\n",
    "port_code=[x[0].replace(\"'\",\"\").strip() for x in data]\n",
    "both=[x[1].replace(\"'\",\"\").strip() for x in data]\n",
    "cities_code= [x.split(\",\")[0] for x in both]\n",
    "staties_code=[x.split(\",\")[-1] for x in both]\n",
    "\n",
    "data_location=pd.DataFrame({'port_code': port_code,'cities_code':cities_code,'staties_code':staties_code})\n",
    "data_location.head()"
   ]
  },
  {
   "cell_type": "code",
   "execution_count": 21,
   "metadata": {
    "editable": true
   },
   "outputs": [
    {
     "name": "stdout",
     "output_type": "stream",
     "text": [
      "['ZZZ', 'WTR', 'NYL', 'CPX', 'GPI', 'CLX', 'SP0', 'A2A', 'W55', 'OAI', 'WA5', 'XXX', 'X44', 'SCH', 'CXO', 'OGS', 'OSN', 'CP', 'MAA', 'NK', 'BCM', 'LIT', 'AG', '74S', 'MTH', 'FRG', '888', 'WAS', 'OTS', 'GAC', 'OLM', 'IAG', 'ATW', 'CHN', 'Y62', 'DRV', 'SUS', 'FTB', 'ASI', 'JSJ', 'NC8', 'STN', 'RYY', 'ISP', '060', 'BKF', 'PFN', 'PLB', 'T01', 'JIG', 'NGL', 'PHF', 'UNK', 'AMT', 'ADU', 'JBQ', 'PHN', 'HRL', 'AUH', 'JFA', 'GMT', '.GA', '5T6', 'EGE', 'AKT', 'DEC', 'YGF', 'FSC', 'VMB', 'PCW', 'X96', 'XNA', 'BUS', 'TIW', 'DAY', 'JMZ', 'MAP']\n"
     ]
    }
   ],
   "source": [
    "wrong_ports=data_location[data_location['cities_code'] == data_location['staties_code']]\n",
    "set_ports=list(set(wrong_ports['port_code'].values))\n",
    "print(set_ports)"
   ]
  },
  {
   "cell_type": "code",
   "execution_count": 22,
   "metadata": {
    "editable": true
   },
   "outputs": [],
   "source": [
    "fact_immr_table=fact_immr[~fact_immr['city_code'].isin(set_ports)]"
   ]
  },
  {
   "cell_type": "code",
   "execution_count": null,
   "metadata": {
    "editable": true
   },
   "outputs": [],
   "source": []
  }
 ],
 "metadata": {
  "kernelspec": {
   "display_name": "Python 3",
   "language": "python",
   "name": "python3"
  },
  "language_info": {
   "codemirror_mode": {
    "name": "ipython",
    "version": 3
   },
   "file_extension": ".py",
   "mimetype": "text/x-python",
   "name": "python",
   "nbconvert_exporter": "python",
   "pygments_lexer": "ipython3",
   "version": "3.6.3"
  }
 },
 "nbformat": 4,
 "nbformat_minor": 4
}
